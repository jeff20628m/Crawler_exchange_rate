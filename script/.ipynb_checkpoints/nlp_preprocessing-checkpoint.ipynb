{
 "cells": [
  {
   "cell_type": "markdown",
   "metadata": {},
   "source": [
    "exchange_rate project"
   ]
  },
  {
   "cell_type": "code",
   "execution_count": 2,
   "metadata": {},
   "outputs": [],
   "source": [
    "import pandas as pd\n",
    "import numpy as np"
   ]
  },
  {
   "cell_type": "markdown",
   "metadata": {},
   "source": [
    "# load data"
   ]
  },
  {
   "cell_type": "code",
   "execution_count": 3,
   "metadata": {},
   "outputs": [],
   "source": [
    "df = pd.read_csv(\"../data/stock_forex.csv\")"
   ]
  },
  {
   "cell_type": "code",
   "execution_count": 18,
   "metadata": {},
   "outputs": [
    {
     "data": {
      "text/plain": [
       "(28106, 47)"
      ]
     },
     "execution_count": 18,
     "metadata": {},
     "output_type": "execute_result"
    }
   ],
   "source": [
    "df.shape"
   ]
  },
  {
   "cell_type": "code",
   "execution_count": 4,
   "metadata": {},
   "outputs": [
    {
     "data": {
      "text/html": [
       "<div>\n",
       "<style scoped>\n",
       "    .dataframe tbody tr th:only-of-type {\n",
       "        vertical-align: middle;\n",
       "    }\n",
       "\n",
       "    .dataframe tbody tr th {\n",
       "        vertical-align: top;\n",
       "    }\n",
       "\n",
       "    .dataframe thead th {\n",
       "        text-align: right;\n",
       "    }\n",
       "</style>\n",
       "<table border=\"1\" class=\"dataframe\">\n",
       "  <thead>\n",
       "    <tr style=\"text-align: right;\">\n",
       "      <th></th>\n",
       "      <th>Unnamed: 0</th>\n",
       "      <th>Unnamed: 0.1</th>\n",
       "      <th>date</th>\n",
       "      <th>title</th>\n",
       "      <th>category</th>\n",
       "      <th>reportor</th>\n",
       "      <th>content</th>\n",
       "      <th>stock_name</th>\n",
       "      <th>stock_reference</th>\n",
       "      <th>stock_price</th>\n",
       "      <th>...</th>\n",
       "      <th>MA0201 台灣-貨幣總計數-M1B-期底-月-台幣(百萬)(TWD)</th>\n",
       "      <th>MA0202 台灣M1B月底值-年增率(百分比)</th>\n",
       "      <th>MA1701 台灣-貨幣總計數-M1B-日平均-月-台幣(百萬)(TWD)</th>\n",
       "      <th>MA1702 台灣M1B日平均年增率(百分比)</th>\n",
       "      <th>MA1801 台灣-貨幣總計數-M1A-日平均-月-台幣(百萬)(TWD)</th>\n",
       "      <th>MA1901 台灣-M1A年增率-日平均值-月-月(百分比)</th>\n",
       "      <th>MA2001 台灣-M1A年增率-期底值-月-月(百分比)</th>\n",
       "      <th>MA4602 台灣-貨幣供給額M1B變動因素分析-國外資產淨額-月-台幣(百萬)(TWD)</th>\n",
       "      <th>MA46 台灣-貨幣供給額M2變動因素分析-國外資產淨額-月-台幣(百萬)(TWD)</th>\n",
       "      <th>ex_rate</th>\n",
       "    </tr>\n",
       "  </thead>\n",
       "  <tbody>\n",
       "    <tr>\n",
       "      <th>0</th>\n",
       "      <td>0</td>\n",
       "      <td>0</td>\n",
       "      <td>2019-02-01</td>\n",
       "      <td>牧德進入Q1設備業出貨淡季 1月營收2.06億元月減22.13%</td>\n",
       "      <td>台股新聞</td>\n",
       "      <td>鉅亨網記者張欽發 台北</td>\n",
       "      <td>設備廠牧德科技 (3563-TW) 今 (1) 日公布 1 月營收為 2.06 億元，月減 ...</td>\n",
       "      <td>牧德(TWS:3563:STOCK)</td>\n",
       "      <td>相關個股 click</td>\n",
       "      <td>NaN</td>\n",
       "      <td>...</td>\n",
       "      <td>18074220</td>\n",
       "      <td>5.97</td>\n",
       "      <td>18095040</td>\n",
       "      <td>5.97</td>\n",
       "      <td>6963974</td>\n",
       "      <td>4.39</td>\n",
       "      <td>4.55</td>\n",
       "      <td>46497</td>\n",
       "      <td>46497</td>\n",
       "      <td>30.785</td>\n",
       "    </tr>\n",
       "    <tr>\n",
       "      <th>1</th>\n",
       "      <td>1</td>\n",
       "      <td>1</td>\n",
       "      <td>2019-02-01</td>\n",
       "      <td>郭台銘證實 鴻海定位將從大量生產轉向研究發展</td>\n",
       "      <td>台股新聞</td>\n",
       "      <td>鉅亨網記者彭昱文 台北</td>\n",
       "      <td>鴻海 (2317-TW) 今 (1) 日召開內部員工大會，對於外界關心美國威州投資案，郭台銘...</td>\n",
       "      <td>鴻海(TWS:2317:STOCK)</td>\n",
       "      <td>相關個股 click</td>\n",
       "      <td>NaN</td>\n",
       "      <td>...</td>\n",
       "      <td>18074220</td>\n",
       "      <td>5.97</td>\n",
       "      <td>18095040</td>\n",
       "      <td>5.97</td>\n",
       "      <td>6963974</td>\n",
       "      <td>4.39</td>\n",
       "      <td>4.55</td>\n",
       "      <td>46497</td>\n",
       "      <td>46497</td>\n",
       "      <td>30.785</td>\n",
       "    </tr>\n",
       "    <tr>\n",
       "      <th>2</th>\n",
       "      <td>2</td>\n",
       "      <td>2</td>\n",
       "      <td>2019-02-01</td>\n",
       "      <td>〈車市〉LEXUS總代理賣贏賓士 YARIS奪單一車種銷售冠軍 和泰車成大贏家</td>\n",
       "      <td>台股新聞</td>\n",
       "      <td>鉅亨網記者王莞甯 台北</td>\n",
       "      <td>元月汽車銷售統計今 (1) 日出爐，新車總掛牌數達 44143 台，月增 5.1%，但仍較去...</td>\n",
       "      <td>和泰車(TWS:2207:STOCK)</td>\n",
       "      <td>相關個股 click</td>\n",
       "      <td>NaN</td>\n",
       "      <td>...</td>\n",
       "      <td>18074220</td>\n",
       "      <td>5.97</td>\n",
       "      <td>18095040</td>\n",
       "      <td>5.97</td>\n",
       "      <td>6963974</td>\n",
       "      <td>4.39</td>\n",
       "      <td>4.55</td>\n",
       "      <td>46497</td>\n",
       "      <td>46497</td>\n",
       "      <td>30.785</td>\n",
       "    </tr>\n",
       "    <tr>\n",
       "      <th>3</th>\n",
       "      <td>3</td>\n",
       "      <td>3</td>\n",
       "      <td>2019-02-01</td>\n",
       "      <td>永豐餘投控延攬蔡維力擔任總經理 看好其跨業戰力</td>\n",
       "      <td>台股新聞</td>\n",
       "      <td>鉅亨網記者陳蕙綾台北</td>\n",
       "      <td>永豐餘投資控股 (1907-TW) 今 (1) 日召開董事會，通過延攬前三陽工業策略長、南陽...</td>\n",
       "      <td>永豐餘(TWS:1907:STOCK)</td>\n",
       "      <td>相關個股 click</td>\n",
       "      <td>NaN</td>\n",
       "      <td>...</td>\n",
       "      <td>18074220</td>\n",
       "      <td>5.97</td>\n",
       "      <td>18095040</td>\n",
       "      <td>5.97</td>\n",
       "      <td>6963974</td>\n",
       "      <td>4.39</td>\n",
       "      <td>4.55</td>\n",
       "      <td>46497</td>\n",
       "      <td>46497</td>\n",
       "      <td>30.785</td>\n",
       "    </tr>\n",
       "    <tr>\n",
       "      <th>4</th>\n",
       "      <td>4</td>\n",
       "      <td>4</td>\n",
       "      <td>2019-02-01</td>\n",
       "      <td>勞動基金元月收益1126億元創單月歷史新高 打消去年虧損</td>\n",
       "      <td>台股新聞</td>\n",
       "      <td>鉅亨網記者郭幸宜 台北</td>\n",
       "      <td>勞動部勞動基金運用局今 (1) 日表示，去年受全球股市劇烈震盪影響，勞動基金虧損 726 億...</td>\n",
       "      <td>None</td>\n",
       "      <td>None</td>\n",
       "      <td>None</td>\n",
       "      <td>...</td>\n",
       "      <td>18074220</td>\n",
       "      <td>5.97</td>\n",
       "      <td>18095040</td>\n",
       "      <td>5.97</td>\n",
       "      <td>6963974</td>\n",
       "      <td>4.39</td>\n",
       "      <td>4.55</td>\n",
       "      <td>46497</td>\n",
       "      <td>46497</td>\n",
       "      <td>30.785</td>\n",
       "    </tr>\n",
       "  </tbody>\n",
       "</table>\n",
       "<p>5 rows × 44 columns</p>\n",
       "</div>"
      ],
      "text/plain": [
       "   Unnamed: 0  Unnamed: 0.1        date  \\\n",
       "0           0             0  2019-02-01   \n",
       "1           1             1  2019-02-01   \n",
       "2           2             2  2019-02-01   \n",
       "3           3             3  2019-02-01   \n",
       "4           4             4  2019-02-01   \n",
       "\n",
       "                                     title category     reportor  \\\n",
       "0         牧德進入Q1設備業出貨淡季 1月營收2.06億元月減22.13%     台股新聞  鉅亨網記者張欽發 台北   \n",
       "1                   郭台銘證實 鴻海定位將從大量生產轉向研究發展     台股新聞  鉅亨網記者彭昱文 台北   \n",
       "2  〈車市〉LEXUS總代理賣贏賓士 YARIS奪單一車種銷售冠軍 和泰車成大贏家     台股新聞  鉅亨網記者王莞甯 台北   \n",
       "3                  永豐餘投控延攬蔡維力擔任總經理 看好其跨業戰力     台股新聞   鉅亨網記者陳蕙綾台北   \n",
       "4             勞動基金元月收益1126億元創單月歷史新高 打消去年虧損     台股新聞  鉅亨網記者郭幸宜 台北   \n",
       "\n",
       "                                             content           stock_name  \\\n",
       "0  設備廠牧德科技 (3563-TW) 今 (1) 日公布 1 月營收為 2.06 億元，月減 ...   牧德(TWS:3563:STOCK)   \n",
       "1  鴻海 (2317-TW) 今 (1) 日召開內部員工大會，對於外界關心美國威州投資案，郭台銘...   鴻海(TWS:2317:STOCK)   \n",
       "2  元月汽車銷售統計今 (1) 日出爐，新車總掛牌數達 44143 台，月增 5.1%，但仍較去...  和泰車(TWS:2207:STOCK)   \n",
       "3  永豐餘投資控股 (1907-TW) 今 (1) 日召開董事會，通過延攬前三陽工業策略長、南陽...  永豐餘(TWS:1907:STOCK)   \n",
       "4  勞動部勞動基金運用局今 (1) 日表示，去年受全球股市劇烈震盪影響，勞動基金虧損 726 億...                 None   \n",
       "\n",
       "  stock_reference stock_price  ... MA0201 台灣-貨幣總計數-M1B-期底-月-台幣(百萬)(TWD)  \\\n",
       "0      相關個股 click         NaN  ...                             18074220   \n",
       "1      相關個股 click         NaN  ...                             18074220   \n",
       "2      相關個股 click         NaN  ...                             18074220   \n",
       "3      相關個股 click         NaN  ...                             18074220   \n",
       "4            None        None  ...                             18074220   \n",
       "\n",
       "  MA0202 台灣M1B月底值-年增率(百分比) MA1701 台灣-貨幣總計數-M1B-日平均-月-台幣(百萬)(TWD)  \\\n",
       "0                     5.97                              18095040   \n",
       "1                     5.97                              18095040   \n",
       "2                     5.97                              18095040   \n",
       "3                     5.97                              18095040   \n",
       "4                     5.97                              18095040   \n",
       "\n",
       "   MA1702 台灣M1B日平均年增率(百分比)  MA1801 台灣-貨幣總計數-M1A-日平均-月-台幣(百萬)(TWD)  \\\n",
       "0                     5.97                                6963974   \n",
       "1                     5.97                                6963974   \n",
       "2                     5.97                                6963974   \n",
       "3                     5.97                                6963974   \n",
       "4                     5.97                                6963974   \n",
       "\n",
       "   MA1901 台灣-M1A年增率-日平均值-月-月(百分比)  MA2001 台灣-M1A年增率-期底值-月-月(百分比)  \\\n",
       "0                            4.39                           4.55   \n",
       "1                            4.39                           4.55   \n",
       "2                            4.39                           4.55   \n",
       "3                            4.39                           4.55   \n",
       "4                            4.39                           4.55   \n",
       "\n",
       "   MA4602 台灣-貨幣供給額M1B變動因素分析-國外資產淨額-月-台幣(百萬)(TWD)  \\\n",
       "0                                          46497   \n",
       "1                                          46497   \n",
       "2                                          46497   \n",
       "3                                          46497   \n",
       "4                                          46497   \n",
       "\n",
       "   MA46 台灣-貨幣供給額M2變動因素分析-國外資產淨額-月-台幣(百萬)(TWD)   ex_rate  \n",
       "0                                       46497    30.785  \n",
       "1                                       46497    30.785  \n",
       "2                                       46497    30.785  \n",
       "3                                       46497    30.785  \n",
       "4                                       46497    30.785  \n",
       "\n",
       "[5 rows x 44 columns]"
      ]
     },
     "execution_count": 4,
     "metadata": {},
     "output_type": "execute_result"
    }
   ],
   "source": [
    "df.head()"
   ]
  },
  {
   "cell_type": "markdown",
   "metadata": {},
   "source": [
    "# NLP processing "
   ]
  },
  {
   "cell_type": "markdown",
   "metadata": {},
   "source": [
    "## data preprocessing"
   ]
  },
  {
   "cell_type": "code",
   "execution_count": 6,
   "metadata": {},
   "outputs": [],
   "source": [
    "# concat title and content \n",
    "# label encoding on category\n",
    "# label encoding on reporter (use including \"reporter's name\")"
   ]
  },
  {
   "cell_type": "code",
   "execution_count": 15,
   "metadata": {},
   "outputs": [],
   "source": [
    "df['all_content'] = df['title'] + df['content']"
   ]
  },
  {
   "cell_type": "code",
   "execution_count": 7,
   "metadata": {},
   "outputs": [],
   "source": [
    "from sklearn import preprocessing"
   ]
  },
  {
   "cell_type": "code",
   "execution_count": 14,
   "metadata": {},
   "outputs": [],
   "source": [
    "new_category = preprocessing.LabelEncoder()\n",
    "new_category.fit(df['category'])\n",
    "df['label_category'] = new_category.transform(df['category'])"
   ]
  },
  {
   "cell_type": "code",
   "execution_count": 16,
   "metadata": {},
   "outputs": [],
   "source": [
    "reportor = preprocessing.LabelEncoder()\n",
    "reportor.fit(df['reportor'])\n",
    "df['label_reportor'] = reportor.transform(df['reportor'])"
   ]
  },
  {
   "cell_type": "code",
   "execution_count": 49,
   "metadata": {},
   "outputs": [],
   "source": [
    "# load stopword\n",
    "stopwords = []\n",
    "with open('../data/stopwords.txt', 'r', encoding='UTF-8') as file:\n",
    "    for data in file.readlines():\n",
    "        data = data.strip()\n",
    "        stopwords.append(data)\n",
    "stopwords.append(' ')\n",
    "stopwords.append('\\n')"
   ]
  },
  {
   "cell_type": "code",
   "execution_count": 30,
   "metadata": {},
   "outputs": [
    {
     "name": "stdout",
     "output_type": "stream",
     "text": [
      "+---------------------------------------------------------------------+\n",
      "  Welcome to MONPA: Multi-Objective NER POS Annotator for Chinese\n",
      "+---------------------------------------------------------------------+\n",
      "已找到 model檔。Found model file.\n"
     ]
    }
   ],
   "source": [
    "import monpa"
   ]
  },
  {
   "cell_type": "code",
   "execution_count": 36,
   "metadata": {},
   "outputs": [],
   "source": [
    "import jieba"
   ]
  },
  {
   "cell_type": "code",
   "execution_count": 47,
   "metadata": {},
   "outputs": [],
   "source": [
    "df['result_cut'] = df['all_content'].apply(lambda sec:jieba.lcut(sec))"
   ]
  },
  {
   "cell_type": "code",
   "execution_count": 56,
   "metadata": {},
   "outputs": [],
   "source": [
    "clean_result = []\n",
    "for i in df['result_cut'] :\n",
    "    clean_result.append(list(filter(lambda sec: sec not in stopwords,i)))"
   ]
  },
  {
   "cell_type": "code",
   "execution_count": 60,
   "metadata": {},
   "outputs": [],
   "source": [
    "df['clean_result'] = clean_result"
   ]
  },
  {
   "cell_type": "code",
   "execution_count": 62,
   "metadata": {},
   "outputs": [],
   "source": [
    "df.to_csv('../data/preprocess_data.csv')"
   ]
  },
  {
   "cell_type": "code",
   "execution_count": null,
   "metadata": {},
   "outputs": [],
   "source": []
  }
 ],
 "metadata": {
  "kernelspec": {
   "display_name": "exchange_rate",
   "language": "python",
   "name": "exchange_rate"
  },
  "language_info": {
   "codemirror_mode": {
    "name": "ipython",
    "version": 3
   },
   "file_extension": ".py",
   "mimetype": "text/x-python",
   "name": "python",
   "nbconvert_exporter": "python",
   "pygments_lexer": "ipython3",
   "version": "3.7.9"
  },
  "toc": {
   "base_numbering": 1,
   "nav_menu": {},
   "number_sections": true,
   "sideBar": true,
   "skip_h1_title": false,
   "title_cell": "Table of Contents",
   "title_sidebar": "Contents",
   "toc_cell": false,
   "toc_position": {},
   "toc_section_display": true,
   "toc_window_display": false
  },
  "varInspector": {
   "cols": {
    "lenName": 16,
    "lenType": 16,
    "lenVar": 40
   },
   "kernels_config": {
    "python": {
     "delete_cmd_postfix": "",
     "delete_cmd_prefix": "del ",
     "library": "var_list.py",
     "varRefreshCmd": "print(var_dic_list())"
    },
    "r": {
     "delete_cmd_postfix": ") ",
     "delete_cmd_prefix": "rm(",
     "library": "var_list.r",
     "varRefreshCmd": "cat(var_dic_list()) "
    }
   },
   "types_to_exclude": [
    "module",
    "function",
    "builtin_function_or_method",
    "instance",
    "_Feature"
   ],
   "window_display": false
  }
 },
 "nbformat": 4,
 "nbformat_minor": 4
}
